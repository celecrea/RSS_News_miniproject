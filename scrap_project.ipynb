{
 "metadata": {
  "name": "",
  "signature": "sha256:2bed104b63db29ed1c1071d2d9730f200b7ad9f0a28a9ed1cda0549d66c16ba0"
 },
 "nbformat": 3,
 "nbformat_minor": 0,
 "worksheets": [
  {
   "cells": [
    {
     "cell_type": "code",
     "collapsed": false,
     "input": [
      "import pymongo\n",
      "conn = pymongo.Connection(\"localhost\")\n",
      "print type(conn)\n",
      "db = conn['guardian_feed']\n",
      "collection = db['guardian_feed']\n",
      "db.collection_names()\n",
      "list(collection.find())\n",
      "collection.remove() "
     ],
     "language": "python",
     "metadata": {},
     "outputs": [
      {
       "output_type": "stream",
       "stream": "stdout",
       "text": [
        "<class 'pymongo.connection.Connection'>\n"
       ]
      }
     ],
     "prompt_number": 7
    },
    {
     "cell_type": "code",
     "collapsed": false,
     "input": [
      "from RSS import ns, CollectionChannel, TrackingChannel\n",
      "\n",
      "#Create a tracking channel, which is a data structure that\n",
      "#Indexes RSS data by item URL\n",
      "tc = TrackingChannel()\n",
      "\n",
      "#Returns the RSSParser instance used, which can usually be ignored\n",
      "tc.parse(\"http://www.theguardian.com/uk/environment/rss\")\n",
      "\n",
      "RSS10_TITLE = (ns.rss10, 'title')\n",
      "RSS10_DESC = (ns.rss10, 'description')\n",
      "RSS10_DATE = (ns.rss10, 'pubDate')\n",
      "\n",
      "#You can also use tc.keys()\n",
      "items = tc.listItems()\n",
      "for item in items:\n",
      "    #Each item is a (url, order_index) tuple\n",
      "    url = item[0]\n",
      "    print \"RSS Item:\", url\n",
      "    #Get all the data for the item as a Python dictionary\n",
      "    item_data = tc.getItem(item)\n",
      "    print \"Date:\", item_data.get(RSS10_DATE, \"(none)\")\n",
      "    print \"Title:\", item_data.get(RSS10_TITLE, \"(none)\")\n",
      "    print \"Description:\", item_data.get(RSS10_DESC, \"(none)\")\n",
      "    collection.insert({'url':url,'date':item_data.get(RSS10_DATE),'title':item_data.get(RSS10_TITLE)})"
     ],
     "language": "python",
     "metadata": {},
     "outputs": [
      {
       "ename": "ImportError",
       "evalue": "No module named RSS",
       "output_type": "pyerr",
       "traceback": [
        "\u001b[1;31m---------------------------------------------------------------------------\u001b[0m\n\u001b[1;31mImportError\u001b[0m                               Traceback (most recent call last)",
        "\u001b[1;32m<ipython-input-8-4b05ddb88e62>\u001b[0m in \u001b[0;36m<module>\u001b[1;34m()\u001b[0m\n\u001b[1;32m----> 1\u001b[1;33m \u001b[1;32mfrom\u001b[0m \u001b[0mRSS\u001b[0m \u001b[1;32mimport\u001b[0m \u001b[0mns\u001b[0m\u001b[1;33m,\u001b[0m \u001b[0mCollectionChannel\u001b[0m\u001b[1;33m,\u001b[0m \u001b[0mTrackingChannel\u001b[0m\u001b[1;33m\u001b[0m\u001b[0m\n\u001b[0m\u001b[0;32m      2\u001b[0m \u001b[1;33m\u001b[0m\u001b[0m\n\u001b[0;32m      3\u001b[0m \u001b[1;31m#Create a tracking channel, which is a data structure that\u001b[0m\u001b[1;33m\u001b[0m\u001b[1;33m\u001b[0m\u001b[0m\n\u001b[0;32m      4\u001b[0m \u001b[1;31m#Indexes RSS data by item URL\u001b[0m\u001b[1;33m\u001b[0m\u001b[1;33m\u001b[0m\u001b[0m\n\u001b[0;32m      5\u001b[0m \u001b[0mtc\u001b[0m \u001b[1;33m=\u001b[0m \u001b[0mTrackingChannel\u001b[0m\u001b[1;33m(\u001b[0m\u001b[1;33m)\u001b[0m\u001b[1;33m\u001b[0m\u001b[0m\n",
        "\u001b[1;31mImportError\u001b[0m: No module named RSS"
       ]
      }
     ],
     "prompt_number": 8
    },
    {
     "cell_type": "code",
     "collapsed": false,
     "input": [],
     "language": "python",
     "metadata": {},
     "outputs": []
    }
   ],
   "metadata": {}
  }
 ]
}